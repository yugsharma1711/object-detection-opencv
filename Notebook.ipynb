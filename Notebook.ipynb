{
 "cells": [
  {
   "cell_type": "markdown",
   "id": "98909cff-5120-4294-b64b-b102a8a1bd79",
   "metadata": {},
   "source": [
    "## Object Detection System Using OPENCV ##"
   ]
  },
  {
   "cell_type": "code",
   "execution_count": 2,
   "id": "34233f03-5d45-4f37-8d96-580d28dce63a",
   "metadata": {},
   "outputs": [],
   "source": [
    "import cv2\n",
    "import matplotlib.pyplot as plt"
   ]
  },
  {
   "cell_type": "markdown",
   "id": "c9d40765-b0fd-4716-885f-c8ea5ace0006",
   "metadata": {},
   "source": [
    "#### Adding the configuration path and weights of the pre-trained Model ####\n",
    "Using SSD-MobileNetv3 trained on the COCO Dataset"
   ]
  },
  {
   "cell_type": "code",
   "execution_count": 3,
   "id": "3e88fa0b-e1f8-4a91-8115-887f50a322b0",
   "metadata": {},
   "outputs": [],
   "source": [
    "config_path = './Model/ssd_mobilenet_v3_large_coco_2020_01_14.pbtxt'\n",
    "frozen_model = './Model/frozen_inference_graph.pb'"
   ]
  },
  {
   "cell_type": "markdown",
   "id": "f26a5dea-9421-4da0-ba1f-0b094ec77871",
   "metadata": {},
   "source": [
    "#### Importing the Class Labels ####"
   ]
  },
  {
   "cell_type": "code",
   "execution_count": 4,
   "id": "c6d05b6d-f284-4803-ba1c-8ace2204d991",
   "metadata": {},
   "outputs": [],
   "source": [
    "classlabels = {}\n",
    "file_name = './Labels/Lables.txt'\n",
    "with open(file_name,'rt') as fpt:\n",
    "    classlabels = fpt.read().rstrip('\\n').split('\\n')"
   ]
  },
  {
   "cell_type": "code",
   "execution_count": 5,
   "id": "ff2703e4-1f4f-4ceb-86b8-608d5d7f416a",
   "metadata": {},
   "outputs": [
    {
     "name": "stdout",
     "output_type": "stream",
     "text": [
      "['person', 'bicycle', 'car', 'motorbike', 'aeroplane', 'bus', 'train', 'truck', 'boat', 'traffic light', 'fire hydrant', 'stop sign', 'parking meter', 'bench', 'bird', 'cat', 'dog', 'horse', 'sheep', 'cow', 'elephant', 'bear', 'zebra', 'giraffe', 'backpack', 'umbrella', 'handbag', 'tie', 'suitcase', 'frisbee', 'skis', 'snowboard', 'sports ball', 'kite', 'baseball bat', 'baseball glove', 'skateboard', 'surfboard', 'tennis racket', 'bottle', 'wine glass', 'cup', 'fork', 'knife', 'spoon', 'bowl', 'banana', 'apple', 'sandwich', 'orange', 'broccoli', 'carrot', 'hot dog', 'pizza', 'donut', 'cake', 'chair', 'sofa', 'pottedplant', 'bed', 'diningtable', 'toilet', 'tvmonitor', 'laptop', 'mouse', 'remote', 'keyboard', 'cell phone', 'microwave', 'oven', 'toaster', 'sink', 'refrigerator', 'book', 'clock', 'vase', 'scissors', 'teddy bear', 'hair drier', 'toothbrush']\n"
     ]
    }
   ],
   "source": [
    "print(classlabels)"
   ]
  },
  {
   "cell_type": "code",
   "execution_count": 6,
   "id": "6bcdf9a8-f94a-4af5-974b-04ded558ce1e",
   "metadata": {},
   "outputs": [
    {
     "name": "stdout",
     "output_type": "stream",
     "text": [
      "80\n"
     ]
    }
   ],
   "source": [
    "print(len(classlabels))"
   ]
  },
  {
   "cell_type": "markdown",
   "id": "3f657ea4-42f6-48e0-be85-7f7f1cad6cbe",
   "metadata": {},
   "source": [
    "#### Defining the MODEL ####"
   ]
  },
  {
   "cell_type": "code",
   "execution_count": 5,
   "id": "7a54a27f-9496-44fe-bd4b-f006497a6004",
   "metadata": {},
   "outputs": [],
   "source": [
    "def makeModel(frozen_url, config_url):\n",
    "    model = cv2.dnn_DetectionModel(frozen_url, config_url)\n",
    "    model.setInputSize(320,320)\n",
    "    model.setInputScale(1.0/127.5)\n",
    "    model.setInputMean((127.5, 127.5,127.5))\n",
    "    model.setInputSwapRB(True)\n",
    "    return model"
   ]
  },
  {
   "cell_type": "markdown",
   "id": "5db2bbf4-0b32-42af-96d4-2bfd35fd5a8c",
   "metadata": {},
   "source": [
    "#### Making the function for detecting the object in images and printing in the image ####"
   ]
  },
  {
   "cell_type": "code",
   "execution_count": 6,
   "id": "1f0f934c-fd13-4055-813e-c4049a54aa07",
   "metadata": {},
   "outputs": [],
   "source": [
    "def getIndexing(model, frame):\n",
    "    Classindex, confidence, bbox = model.detect(frame, confThreshold = 0.5)\n",
    "    font_scale = 3\n",
    "    font = cv2.FONT_HERSHEY_PLAIN\n",
    "    if len(Classindex) != 0:\n",
    "            for c_index, conf, boxes in zip(Classindex.flatten(), confidence.flatten(), bbox):\n",
    "                if c_index <= 80 :\n",
    "                    cv2.rectangle(frame, boxes, (255,0,0), 2)\n",
    "                    cv2.putText(frame, classlabels[c_index-1], (boxes[0] + 10,boxes[1]+40), font, fontScale = font_scale,color = (0, 255,0), thickness = 1)"
   ]
  },
  {
   "cell_type": "code",
   "execution_count": 7,
   "id": "2c1fa2cd-77f9-485b-8c1e-f58b0fc0af87",
   "metadata": {},
   "outputs": [
    {
     "ename": "NameError",
     "evalue": "name 'image' is not defined",
     "output_type": "error",
     "traceback": [
      "\u001b[1;31m---------------------------------------------------------------------------\u001b[0m",
      "\u001b[1;31mNameError\u001b[0m                                 Traceback (most recent call last)",
      "Input \u001b[1;32mIn [7]\u001b[0m, in \u001b[0;36m<cell line: 1>\u001b[1;34m()\u001b[0m\n\u001b[1;32m----> 1\u001b[0m plt\u001b[38;5;241m.\u001b[39mimshow(\u001b[43mimage\u001b[49m)\n",
      "\u001b[1;31mNameError\u001b[0m: name 'image' is not defined"
     ]
    }
   ],
   "source": [
    "plt.imshow(image)"
   ]
  },
  {
   "cell_type": "markdown",
   "id": "ebe9db34-cd45-43da-b201-5ac97cd6ce7a",
   "metadata": {},
   "source": [
    "#### Making new function for implementation to live video capture ####"
   ]
  },
  {
   "cell_type": "code",
   "execution_count": 8,
   "id": "27aa0ac9-ef7a-4e3a-9392-6b42a2f31a83",
   "metadata": {},
   "outputs": [],
   "source": [
    "def runModel(model, url):\n",
    "    cap = cv2.VideoCapture(url)\n",
    "    if not cap.isOpened():\n",
    "        cap = cv2.VideoCapture(0)\n",
    "    if not cap.isOpened():\n",
    "        raise IOError('Video not opened')\n",
    "    #font_scale = 3\n",
    "    #font = cv2.FONT_HERSHEY_PLAIN\n",
    "    while True:\n",
    "        ret, frame = cap.read()\n",
    "        getIndexing(model, frame)\n",
    "        cv2.imshow('Object Detection', frame)\n",
    "        if cv2.waitKey(2) & 0xFF == ord('q') or cv2.getWindowProperty('Object Detection', cv2.WND_PROP_VISIBLE) <1:\n",
    "            break\n",
    "    cap.release()\n",
    "    cv2.destroyAllWindows()"
   ]
  },
  {
   "cell_type": "code",
   "execution_count": 12,
   "id": "c25173ea-afe0-4643-90c0-44b4e02de383",
   "metadata": {},
   "outputs": [],
   "source": [
    "# USE 0 FOR WEB CAM\n",
    "# OTHERWISE SUPPLY A DIRECTORY OF VIDEO\n",
    "# PRESS Q FOR EXITING\n",
    "model = makeModel(frozen_model, config_path)\n",
    "runModel(model,'./Test_data/Pexels Videos 4698.mp4')"
   ]
  },
  {
   "cell_type": "code",
   "execution_count": null,
   "id": "4b7867d6-e838-4d54-a90c-e83d814083a9",
   "metadata": {},
   "outputs": [],
   "source": []
  }
 ],
 "metadata": {
  "kernelspec": {
   "display_name": "Python 3 (ipykernel)",
   "language": "python",
   "name": "python3"
  },
  "language_info": {
   "codemirror_mode": {
    "name": "ipython",
    "version": 3
   },
   "file_extension": ".py",
   "mimetype": "text/x-python",
   "name": "python",
   "nbconvert_exporter": "python",
   "pygments_lexer": "ipython3",
   "version": "3.9.12"
  }
 },
 "nbformat": 4,
 "nbformat_minor": 5
}
